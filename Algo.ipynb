{
 "cells": [
  {
   "cell_type": "code",
   "execution_count": 164,
   "metadata": {},
   "outputs": [],
   "source": [
    "import numpy as np\n",
    "import pandas as pd\n",
    "import pycountry\n",
    "import plotly.express as px\n",
    "import plotly.graph_objects as go\n",
    "from collections import defaultdict\n",
    "from scipy import stats\n",
    "import matplotlib.pyplot as plt\n",
    "import seaborn as sns\n",
    "\n",
    "def normalize(x):\n",
    "    x_ = x - np.min(x)\n",
    "    x__ = x_ / np.std(x_)\n",
    "    return x"
   ]
  },
  {
   "cell_type": "code",
   "execution_count": 165,
   "metadata": {},
   "outputs": [],
   "source": [
    "source = px.data.gapminder()\n",
    "source = source.groupby(['country','iso_alpha'],as_index=False).agg({'iso_num': 'mean'})\n",
    "country_code = defaultdict(str)\n",
    "for i in source.iterrows():\n",
    "    country_code[i[1][0]] = i[1][1]\n",
    "    \n",
    "country_code['Antigua and Barbuda'] = 'ATG'\n",
    "country_code['Bahamas'] = 'BHS'\n",
    "country_code['Barbados'] = 'BRB'\n",
    "country_code['Belize'] = 'BLZ'\n",
    "country_code['Luxembourg'] = 'LUX'\n",
    "country_code['Malta'] = 'MLT'\n",
    "country_code['Republic of Korea'] = 'KOR'\n",
    "country_code['Saint Lucia'] = 'LCA'\n",
    "country_code['Saint Vincent and Grenadines'] = 'VCT'\n",
    "country_code['Seychelles'] = 'SYC'\n",
    "country_code['Suriname'] = 'SUR'\n",
    "country_code['Turkmenistan'] = 'TKM'\n",
    "country_code['Ukraine'] = 'UKR'\n",
    "\n",
    "countries = defaultdict(str)\n",
    "for country in pycountry.countries:\n",
    "    countries[country.name] = country.alpha_3\n",
    "    \n",
    "countries['Russia'] = 'RUS'\n",
    "countries['Ivory Coast'] = 'CIV'\n",
    "countries['South Korea'] = 'KOR'\n",
    "countries['Cape Verde'] = 'CPV'\n",
    "countries['Moldova'] = 'MDA'\n",
    "countries['Bolivia'] = 'BOL'\n",
    "countries['F.S. Micronesia'] = 'FSM'\n",
    "countries['North Korea'] = 'PRK'\n",
    "countries['Slovak Republic'] = 'SVK'\n",
    "countries['Czech Republic'] = 'CZE'\n",
    "countries['Tanzania'] = 'TZA'\n",
    "countries['Laos'] = 'LAO'\n",
    "countries['Vietnam'] = 'VNM'\n",
    "countries['East Timor'] = 'TMP'\n",
    "countries['Brunei'] = 'BRU'\n",
    "countries['Iran'] = 'IRN'\n",
    "countries['Venezuela'] = 'VEN'\n",
    "countries['São Tomé and Príncipe'] = 'STP'\n",
    "countries['Syria'] = 'SYR'\n",
    "countries['DR Congo'] = 'COD'\n",
    "\n",
    "OECD = ['MEX', 'KOR', 'GRC', 'IND', 'CHL', 'RUS', 'POL', 'LVA', 'ISR', 'ISL', 'IRL', 'EST', 'PRT', 'USA', 'CZE', 'HUN', 'NZL', 'SVK', 'ITA', 'JPN', 'CAN', 'ESP', 'SVN', 'GBR', 'AUS', 'FIN', 'SWE', 'AUT', 'CHE', 'BEL', 'LUX', 'FRA', 'NLD', 'NOR', 'DNK', 'DEU']\n"
   ]
  },
  {
   "cell_type": "code",
   "execution_count": 166,
   "metadata": {},
   "outputs": [],
   "source": [
    "data_pic1 = pd.read_excel('data1.xlsx').values\n",
    "data1 = []\n",
    "data2 = []\n",
    "\n",
    "for i in data_pic1[:, 1]:\n",
    "    if i.endswith('[a]\\xa0(more info)'):\n",
    "        data1.append(i[:-15].strip())\n",
    "    elif i.endswith('(more info)'):\n",
    "        data1.append(i[:-12].strip())\n",
    "    elif i.endswith('[a]'):\n",
    "        data1.append(i[:-3].strip())\n",
    "    else:\n",
    "        data1.append(i.strip())\n",
    "        \n",
    "for i in data1:\n",
    "    data2.append(countries[i])\n",
    "        \n",
    "data_pic1[:, 1] = data1\n",
    "data_pic1[:, 2] = data2\n",
    "\n",
    "data_pic1 = pd.DataFrame(data=data_pic1, columns=['Rank', 'Country', 'Code', 'Rate'])"
   ]
  },
  {
   "cell_type": "code",
   "execution_count": 167,
   "metadata": {},
   "outputs": [
    {
     "name": "stdout",
     "output_type": "stream",
     "text": [
      "Pearson Correlation between Annual Working Hours and Suicide Rate is: (0.14516058265806767, 0.3982710842654529)\n"
     ]
    },
    {
     "data": {
      "text/plain": [
       "Text(0.5, 1.0, 'Suicide Rate vs. Working Hours')"
      ]
     },
     "execution_count": 167,
     "metadata": {},
     "output_type": "execute_result"
    },
    {
     "data": {
      "image/png": "[encoded data removed]",
      "text/plain": [
       "<Figure size 432x288 with 1 Axes>"
      ]
     },
     "metadata": {
      "needs_background": "light"
     },
     "output_type": "display_data"
    }
   ],
   "source": [
    "data_pic2 = pd.read_excel('data2.xlsx').values\n",
    "data1 = []\n",
    "data2 = []\n",
    "data3 = []\n",
    "\n",
    "for i in data_pic2[:, 1]:\n",
    "    data1.append(i.strip())\n",
    "    \n",
    "for i in data1:\n",
    "    data2.append(countries[i])\n",
    "    \n",
    "for i in data2:\n",
    "    data3.append(data_pic1[data_pic1['Code']==i]['Rate'].values[0])\n",
    "    \n",
    "data_pic2[:, 1] = data1\n",
    "data_pic2[:, 2] = data2\n",
    "data_pic2[:, 4] = data3\n",
    "\n",
    "data_pic2 = pd.DataFrame(data=data_pic2, columns=['Rank', 'Country', 'Code', 'Hours', 'Rate'])\n",
    "\n",
    "correlation = stats.pearsonr(normalize(data_pic2['Hours']), normalize(data_pic2['Rate']))\n",
    "print('Pearson Correlation between Annual Working Hours and Suicide Rate is:', correlation)\n",
    "plt.plot(data_pic2['Hours'], data_pic2['Rate'], 'o')\n",
    "plt.xlabel('Annual Working Hours')\n",
    "plt.ylabel('Suicide Rate')\n",
    "plt.title('Suicide Rate vs. Working Hours')"
   ]
  },
  {
   "cell_type": "code",
   "execution_count": 168,
   "metadata": {},
   "outputs": [
    {
     "name": "stdout",
     "output_type": "stream",
     "text": [
      "Pearson Correlation between Unemployment Rate and Suicide Rate is: (-0.22992000842717636, 0.1773407693362139)\n"
     ]
    },
    {
     "data": {
      "text/plain": [
       "Text(0.5, 1.0, 'Suicide Rate vs. Unemployment Rate')"
      ]
     },
     "execution_count": 168,
     "metadata": {},
     "output_type": "execute_result"
    },
    {
     "data": {
      "image/png": "[encoded data removed]",
      "text/plain": [
       "<Figure size 432x288 with 1 Axes>"
      ]
     },
     "metadata": {
      "needs_background": "light"
     },
     "output_type": "display_data"
    }
   ],
   "source": [
    "data_pic3 = pd.read_excel('data3.xlsx').values\n",
    "unemployment = defaultdict(float)\n",
    "for i in range(len(data_pic3)):\n",
    "    unemployment[countries[data_pic3[i, 1].strip()]] = data_pic3[i, 2]\n",
    "\n",
    "data4 = []\n",
    "for i in data_pic2['Code']:\n",
    "    data4.append(unemployment[i])\n",
    "\n",
    "try:\n",
    "    data_pic2.insert(5, 'Unemployment', data4)\n",
    "except:\n",
    "    print('Insert done before!')\n",
    "\n",
    "correlation = stats.pearsonr(normalize(data_pic2['Unemployment']), normalize(data_pic2['Rate']))\n",
    "print('Pearson Correlation between Unemployment Rate and Suicide Rate is:', correlation)\n",
    "plt.plot(data_pic2['Unemployment'], data_pic2['Rate'], 'o')\n",
    "plt.xlabel('Unemployment Rate')\n",
    "plt.ylabel('Suicide Rate')\n",
    "plt.title('Suicide Rate vs. Unemployment Rate')"
   ]
  },
  {
   "cell_type": "code",
   "execution_count": 169,
   "metadata": {},
   "outputs": [
    {
     "name": "stdout",
     "output_type": "stream",
     "text": [
      "Pearson Correlation between GDP per Capita and Suicide Rate is: (-0.21707036678247432, 0.2034851522401526)\n"
     ]
    },
    {
     "data": {
      "text/plain": [
       "Text(0.5, 1.0, 'Suicide Rate vs. GDP per Capita (PPP)')"
      ]
     },
     "execution_count": 169,
     "metadata": {},
     "output_type": "execute_result"
    },
    {
     "data": {
      "image/png": "[encoded data removed]",
      "text/plain": [
       "<Figure size 432x288 with 1 Axes>"
      ]
     },
     "metadata": {
      "needs_background": "light"
     },
     "output_type": "display_data"
    }
   ],
   "source": [
    "data_pic4 = pd.read_excel('data4.xlsx').values\n",
    "gdp_ppp = defaultdict(float)\n",
    "for i in range(len(data_pic4)):\n",
    "    gdp_ppp[countries[data_pic4[i, 1].strip()]] = data_pic4[i, 2]\n",
    "    \n",
    "data5 = []\n",
    "for i in data_pic2['Code']:\n",
    "    data5.append(gdp_ppp[i])\n",
    "\n",
    "try:\n",
    "    data_pic2.insert(6, 'GDP', data5)\n",
    "except:\n",
    "    print('Insert done before!')\n",
    "    \n",
    "correlation = stats.pearsonr(normalize(data_pic2['GDP']), normalize(data_pic2['Rate']))\n",
    "print('Pearson Correlation between GDP per Capita and Suicide Rate is:', correlation)\n",
    "plt.plot(data_pic2['GDP'], data_pic2['Rate'], 'o')\n",
    "plt.xlabel('GDP per Capita (PPP)')\n",
    "plt.ylabel('Suicide Rate')\n",
    "plt.title('Suicide Rate vs. GDP per Capita (PPP)')"
   ]
  },
  {
   "cell_type": "code",
   "execution_count": 176,
   "metadata": {},
   "outputs": [
    {
     "name": "stdout",
     "output_type": "stream",
     "text": [
      "Insert done before!\n",
      "Pearson Correlation between Social Welfare and Suicide Rate is: (-0.4023708427719162, 0.014980607745352528)\n"
     ]
    },
    {
     "data": {
      "text/plain": [
       "Text(0.5, 1.0, 'Suicide Rate vs. Social Welfare as Percentage in GDP')"
      ]
     },
     "execution_count": 176,
     "metadata": {},
     "output_type": "execute_result"
    },
    {
     "data": {
      "image/png": "[encoded data removed]",
      "text/plain": [
       "<Figure size 432x288 with 1 Axes>"
      ]
     },
     "metadata": {
      "needs_background": "light"
     },
     "output_type": "display_data"
    }
   ],
   "source": [
    "data_pic5 = pd.read_excel('data5.xlsx').values\n",
    "welfare = defaultdict(float)\n",
    "for i in range(len(data_pic5)):\n",
    "    welfare[countries[data_pic5[i, 1].strip()]] = data_pic5[i, 2]\n",
    "    \n",
    "data5 = []\n",
    "for i in data_pic2['Code']:\n",
    "    data5.append(welfare[i])\n",
    "\n",
    "try:\n",
    "    data_pic2.insert(7, 'Welfare', data5)\n",
    "except:\n",
    "    print('Insert done before!')\n",
    "    \n",
    "correlation = stats.pearsonr(normalize(data_pic2['Welfare']), normalize(data_pic2['Rate']))\n",
    "print('Pearson Correlation between Social Welfare and Suicide Rate is:', correlation)\n",
    "plt.plot(data_pic2['Welfare'], data_pic2['Rate'], 'o')\n",
    "plt.xlabel('Social Welfare as Percentage in GDP')\n",
    "plt.ylabel('Suicide Rate')\n",
    "plt.title('Suicide Rate vs. Social Welfare as Percentage in GDP')"
   ]
  },
  {
   "cell_type": "code",
   "execution_count": 170,
   "metadata": {},
   "outputs": [
    {
     "name": "stdout",
     "output_type": "stream",
     "text": [
      "Insert done before!\n",
      "Pearson Correlation between GDP per Capita and Suicide Rate is: (-0.21707036678247432, 0.2034851522401526)\n"
     ]
    },
    {
     "data": {
      "text/plain": [
       "Text(0.5, 1.0, 'Suicide Rate vs. GDP per Capita (PPP)')"
      ]
     },
     "execution_count": 170,
     "metadata": {},
     "output_type": "execute_result"
    },
    {
     "data": {
      "image/png": "[encoded data removed]",
      "text/plain": [
       "<Figure size 432x288 with 1 Axes>"
      ]
     },
     "metadata": {
      "needs_background": "light"
     },
     "output_type": "display_data"
    }
   ],
   "source": []
  },
  {
   "cell_type": "code",
   "execution_count": null,
   "metadata": {},
   "outputs": [],
   "source": []
  },
  {
   "cell_type": "code",
   "execution_count": null,
   "metadata": {},
   "outputs": [],
   "source": []
  },
  {
   "cell_type": "code",
   "execution_count": null,
   "metadata": {},
   "outputs": [],
   "source": []
  },
  {
   "cell_type": "code",
   "execution_count": null,
   "metadata": {},
   "outputs": [],
   "source": []
  },
  {
   "cell_type": "code",
   "execution_count": null,
   "metadata": {},
   "outputs": [],
   "source": []
  },
  {
   "cell_type": "code",
   "execution_count": null,
   "metadata": {},
   "outputs": [],
   "source": []
  },
  {
   "cell_type": "code",
   "execution_count": 1,
   "metadata": {},
   "outputs": [
    {
     "ename": "NameError",
     "evalue": "name 'pd' is not defined",
     "output_type": "error",
     "traceback": [
      "\u001b[0;31m---------------------------------------------------------------------------\u001b[0m",
      "\u001b[0;31mNameError\u001b[0m                                 Traceback (most recent call last)",
      "\u001b[0;32m<ipython-input-1-f5174226258e>\u001b[0m in \u001b[0;36m<module>\u001b[0;34m\u001b[0m\n\u001b[0;32m----> 1\u001b[0;31m \u001b[0mdata\u001b[0m \u001b[0;34m=\u001b[0m \u001b[0mpd\u001b[0m\u001b[0;34m.\u001b[0m\u001b[0mread_csv\u001b[0m\u001b[0;34m(\u001b[0m\u001b[0;34m'master.csv'\u001b[0m\u001b[0;34m)\u001b[0m\u001b[0;34m\u001b[0m\u001b[0;34m\u001b[0m\u001b[0m\n\u001b[0m\u001b[1;32m      2\u001b[0m \u001b[0mdf1\u001b[0m \u001b[0;34m=\u001b[0m \u001b[0mdata\u001b[0m\u001b[0;34m[\u001b[0m\u001b[0;34m[\u001b[0m\u001b[0;34m'country'\u001b[0m\u001b[0;34m,\u001b[0m \u001b[0;34m'year'\u001b[0m\u001b[0;34m,\u001b[0m \u001b[0;34m'suicides_no'\u001b[0m\u001b[0;34m,\u001b[0m \u001b[0;34m'suicides/100k pop'\u001b[0m\u001b[0;34m]\u001b[0m\u001b[0;34m]\u001b[0m\u001b[0;34m\u001b[0m\u001b[0;34m\u001b[0m\u001b[0m\n\u001b[1;32m      3\u001b[0m \u001b[0mdf1\u001b[0m \u001b[0;34m=\u001b[0m \u001b[0mdf1\u001b[0m\u001b[0;34m.\u001b[0m\u001b[0mgroupby\u001b[0m\u001b[0;34m(\u001b[0m\u001b[0;34m[\u001b[0m\u001b[0;34m'country'\u001b[0m\u001b[0;34m]\u001b[0m\u001b[0;34m,\u001b[0m \u001b[0mas_index\u001b[0m\u001b[0;34m=\u001b[0m\u001b[0;32mFalse\u001b[0m\u001b[0;34m)\u001b[0m\u001b[0;34m.\u001b[0m\u001b[0magg\u001b[0m\u001b[0;34m(\u001b[0m\u001b[0;34m{\u001b[0m\u001b[0;34m'suicides_no'\u001b[0m\u001b[0;34m:\u001b[0m \u001b[0;34m'mean'\u001b[0m\u001b[0;34m,\u001b[0m \u001b[0;34m'suicides/100k pop'\u001b[0m\u001b[0;34m:\u001b[0m\u001b[0;34m'mean'\u001b[0m\u001b[0;34m}\u001b[0m\u001b[0;34m)\u001b[0m\u001b[0;34m\u001b[0m\u001b[0;34m\u001b[0m\u001b[0m\n\u001b[1;32m      4\u001b[0m \u001b[0mdf1\u001b[0m\u001b[0;34m.\u001b[0m\u001b[0minsert\u001b[0m\u001b[0;34m(\u001b[0m\u001b[0;36m1\u001b[0m\u001b[0;34m,\u001b[0m \u001b[0;34m'iso_alpha'\u001b[0m\u001b[0;34m,\u001b[0m \u001b[0;34m'none'\u001b[0m\u001b[0;34m)\u001b[0m\u001b[0;34m\u001b[0m\u001b[0;34m\u001b[0m\u001b[0m\n\u001b[1;32m      5\u001b[0m \u001b[0mdf1\u001b[0m\u001b[0;34m[\u001b[0m\u001b[0;34m'iso_alpha'\u001b[0m\u001b[0;34m]\u001b[0m \u001b[0;34m=\u001b[0m \u001b[0mdf1\u001b[0m\u001b[0;34m.\u001b[0m\u001b[0mapply\u001b[0m\u001b[0;34m(\u001b[0m\u001b[0;32mlambda\u001b[0m \u001b[0mx\u001b[0m\u001b[0;34m:\u001b[0m \u001b[0mcountry_code\u001b[0m\u001b[0;34m[\u001b[0m\u001b[0mx\u001b[0m\u001b[0;34m[\u001b[0m\u001b[0;34m'country'\u001b[0m\u001b[0;34m]\u001b[0m\u001b[0;34m]\u001b[0m\u001b[0;34m,\u001b[0m \u001b[0maxis\u001b[0m\u001b[0;34m=\u001b[0m\u001b[0;36m1\u001b[0m\u001b[0;34m)\u001b[0m\u001b[0;34m\u001b[0m\u001b[0;34m\u001b[0m\u001b[0m\n",
      "\u001b[0;31mNameError\u001b[0m: name 'pd' is not defined"
     ]
    }
   ],
   "source": [
    "data = pd.read_csv('master.csv')\n",
    "df1 = data[['country', 'year', 'suicides_no', 'suicides/100k pop']]\n",
    "df1 = df1.groupby(['country'], as_index=False).agg({'suicides_no': 'mean', 'suicides/100k pop':'mean'})\n",
    "df1.insert(1, 'iso_alpha', 'none')\n",
    "df1['iso_alpha'] = df1.apply(lambda x: country_code[x['country']], axis=1)"
   ]
  },
  {
   "cell_type": "code",
   "execution_count": 36,
   "metadata": {},
   "outputs": [
    {
     "data": {
      "text/plain": [
       "'CSE'"
      ]
     },
     "execution_count": 36,
     "metadata": {},
     "output_type": "execute_result"
    }
   ],
   "source": [
    "countries['Czech Republic']"
   ]
  },
  {
   "cell_type": "code",
   "execution_count": null,
   "metadata": {},
   "outputs": [],
   "source": []
  }
 ],
 "metadata": {
  "kernelspec": {
   "display_name": "Python 3.7.3 64-bit ('anaconda3': virtualenv)",
   "language": "python",
   "name": "python37364bitanaconda3virtualenv5b2563ce316347af800558e64a1b6ee8"
  },
  "language_info": {
   "codemirror_mode": {
    "name": "ipython",
    "version": 3
   },
   "file_extension": ".py",
   "mimetype": "text/x-python",
   "name": "python",
   "nbconvert_exporter": "python",
   "pygments_lexer": "ipython3",
   "version": "3.7.6"
  }
 },
 "nbformat": 4,
 "nbformat_minor": 2
}
